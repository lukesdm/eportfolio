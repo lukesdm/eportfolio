{
  "nbformat": 4,
  "nbformat_minor": 0,
  "metadata": {
    "colab": {
      "provenance": []
    },
    "kernelspec": {
      "name": "python3",
      "display_name": "Python 3"
    },
    "language_info": {
      "name": "python"
    }
  },
  "cells": [
    {
      "cell_type": "markdown",
      "source": [
        "# kitti_2_las\n",
        "\n",
        "Created by Luke McQuade, 25-July-2023.\n",
        "\n",
        "Additional Contributors: Syeda Zahra Kazmi\n",
        "\n",
        "Creates a set of georeferenced .las files from a sequence of KITTI .bin files (see https://github.com/PRBonn/semantic-kitti-api).\n",
        "\n",
        "Designed for use in Google Colab.\n",
        "\n",
        "## Usage\n",
        "\n",
        "Upload the Kitti poses.txt, velodyne folder (containing .bin files), and labels folder (containing .label files) into the working directory, set the parameters, and run the remaining script. The .las files will be produced under the 'las' folder.\n",
        "\n",
        "## Warning\n",
        "\n",
        "This is a work-in-progress; currently, world orientation (rotation) is not 100% working correctly. There are probably other issues."
      ],
      "metadata": {
        "id": "A9S7mHMIsoOO"
      }
    },
    {
      "cell_type": "markdown",
      "source": [
        "## Setup"
      ],
      "metadata": {
        "id": "b4gNSjjLtbSh"
      }
    },
    {
      "cell_type": "code",
      "source": [
        "# Mount Google Drive\n",
        "from google.colab import drive\n",
        "drive.mount(\"/content/drive\")"
      ],
      "metadata": {
        "colab": {
          "base_uri": "https://localhost:8080/"
        },
        "id": "oNfxxLGSiigb",
        "outputId": "f7a7b3c1-a51f-4abe-f3ff-7a74b5f0a941"
      },
      "execution_count": null,
      "outputs": [
        {
          "output_type": "stream",
          "name": "stdout",
          "text": [
            "Mounted at /content/drive\n"
          ]
        }
      ]
    },
    {
      "cell_type": "code",
      "source": [
        "%cd '/content/drive/MyDrive/CHANGE_ME/sequences/14'"
      ],
      "metadata": {
        "id": "fzRxoOmti_Vz"
      },
      "execution_count": null,
      "outputs": []
    },
    {
      "cell_type": "code",
      "source": [
        "import math\n",
        "\n",
        "# Define the files to process (we will look for files with naming format 000nnn.bin)\n",
        "num_files = 550\n",
        "to_process = range(1, num_files + 1, 50)\n",
        "\n",
        "# Coordinates of origin (world) and next track point, for determining position and orientation\n",
        "origin_lat, origin_lon = 47.78529034,13.05783747\n",
        "origin_z = 425 # meters\n",
        "\n",
        "next_lat, next_lon = 47.78526056,13.05785052\n",
        "next_z = 425 # meters\n",
        "\n",
        "# Initial bearing (in radians). Manually specify this if known. Otherwise it is estimated from the above GPS points.\n",
        "init_bearing_override = math.radians(167.0)\n",
        "\n",
        "# Scale factor to convert input points to meters\n",
        "SCALE_FACTOR = 1.0\n",
        "\n",
        "# Target CRS EPSG (Expected: a projected CRS with meters as units of measurement)\n",
        "OUT_EPSG = 31255 # (MGI / Austria GK Central)"
      ],
      "metadata": {
        "id": "W3K3SdX4tYkt"
      },
      "execution_count": null,
      "outputs": []
    },
    {
      "cell_type": "code",
      "source": [
        "%pip install laspy"
      ],
      "metadata": {
        "colab": {
          "base_uri": "https://localhost:8080/"
        },
        "id": "ztV6Zvq_NdG_",
        "outputId": "95e2c198-f647-4df6-931f-5675975ea5b3"
      },
      "execution_count": null,
      "outputs": [
        {
          "output_type": "stream",
          "name": "stdout",
          "text": [
            "Requirement already satisfied: laspy in /usr/local/lib/python3.10/dist-packages (2.5.1)\n",
            "Requirement already satisfied: numpy in /usr/local/lib/python3.10/dist-packages (from laspy) (1.22.4)\n"
          ]
        }
      ]
    },
    {
      "cell_type": "markdown",
      "source": [
        "## Main"
      ],
      "metadata": {
        "id": "RdYtmMKYlETi"
      }
    },
    {
      "cell_type": "code",
      "source": [
        "import laspy\n",
        "import math\n",
        "import numpy as np\n",
        "from numpy.linalg import inv\n",
        "from pyproj import CRS, Transformer\n",
        "from pathlib import Path\n",
        "\n",
        "\n",
        "# COULDO: Use this for bearing calculation if using projected coordinates (result has an offset that needs correcting first though)\n",
        "def calculate_bearing(x1, y1, x2, y2):\n",
        "    \"\"\"\n",
        "    Calculates the bearing between two points (rectangular coordinates).\n",
        "    Args:\n",
        "        x1, y1: point 1 coordinates\n",
        "        x2, y2: point 2 coordinates\n",
        "    Returns:\n",
        "        initial_compass_bearing: bearing in radians, clockwise from North.\n",
        "    \"\"\"\n",
        "    dx = x2 - x1\n",
        "    dy = y2 - y1\n",
        "    bearing = np.arctan2(dy, dx)\n",
        "    bearing = (bearing + 2*math.pi) % (2*math.pi)\n",
        "    return bearing\n",
        "\n",
        "\n",
        "def calculate_bearing_geo(pointA, pointB):\n",
        "    \"\"\"\n",
        "    Calculates the bearing between two geographic points.\n",
        "    Args:\n",
        "        pointA: tuple with latitude and longitude of the first point.\n",
        "        pointB: tuple with latitude and longitude of the second point.\n",
        "    Returns:\n",
        "        initial_compass_bearing: bearing in radians, clockwise from North.\n",
        "    \"\"\"\n",
        "    lat1 = math.radians(pointA[0])\n",
        "    lat2 = math.radians(pointB[0])\n",
        "    diffLong = math.radians(pointB[1] - pointA[1])\n",
        "    x = math.sin(diffLong) * math.cos(lat2)\n",
        "    y = math.cos(lat1) * math.sin(lat2) - (math.sin(lat1)\n",
        "            * math.cos(lat2) * math.cos(diffLong))\n",
        "    initial_bearing = math.atan2(x, y)\n",
        "    initial_bearing = (initial_bearing + 2*math.pi) % (2*math.pi)\n",
        "    return initial_bearing\n",
        "\n",
        "\n",
        "def read_poses(file_path):\n",
        "    with open(file_path, 'r') as f:\n",
        "        lines = f.readlines()\n",
        "    poses = []\n",
        "    for line in lines:\n",
        "        pose = np.array(list(map(float, line.split()))).reshape(3, 4)\n",
        "\n",
        "        # Complete the affine transform matrix\n",
        "        pose = np.vstack([pose, [0, 0, 0, 1]])\n",
        "\n",
        "        poses.append(pose)\n",
        "    return poses\n",
        "\n",
        "\n",
        "def process_bin_to_las(bin_path, pose, las_path, origin_proj, bearing, label_path):\n",
        "    # Correct the bearing for the world transform matrix and pose matrix axis differences\n",
        "    bearing = bearing - (math.pi / 2)\n",
        "\n",
        "    x1, y1, z1 = origin_proj\n",
        "    # Load points from .bin file\n",
        "    points_orig = np.fromfile(bin_path, dtype=np.float32).reshape(-1, 4)\n",
        "\n",
        "    # Convert points to meters\n",
        "    points = points_orig[:,:3] * SCALE_FACTOR  # 4th channel doesn't need conversion/transforming\n",
        "\n",
        "    # Create homogeneous coordinates for points\n",
        "    points_hom = np.ones((points.shape[0], 4))\n",
        "    points_hom[:, :3] = points\n",
        "\n",
        "    # Create a homogeneous transformation matrix for world coordinates\n",
        "    homogeneous_transformation_world = np.array([\n",
        "        [np.cos(-bearing), -np.sin(-bearing), 0, x1],\n",
        "        [np.sin(-bearing),  np.cos(-bearing), 0, y1],\n",
        "        [0, 0, 1, z1],\n",
        "        [0, 0, 0, 1]\n",
        "    ])\n",
        "\n",
        "    # Create the combined transformation matrix\n",
        "    combined_transformation = homogeneous_transformation_world @ pose\n",
        "\n",
        "    # Apply the combined transformation to the points\n",
        "    world_points_hom = (combined_transformation @ points_hom.T).T\n",
        "\n",
        "    # Extract the world coordinates (discard the homogeneous coordinate)\n",
        "    world_points = world_points_hom[:,:3]\n",
        "\n",
        "    # Load labels\n",
        "    labels = np.fromfile(label_path, dtype=np.int32)\n",
        "\n",
        "    # Create las\n",
        "    las = laspy.create(point_format=2, file_version='1.4')\n",
        "    las.header.add_crs(CRS.from_user_input(OUT_EPSG))\n",
        "    las.x = world_points[:, 0]\n",
        "    las.y = world_points[:, 1]\n",
        "    las.z = world_points[:, 2]\n",
        "    las.intensity = points_orig[:, 3]\n",
        "    las.user_data = labels # if this fails, instance id is too high and we need to find a different solution\n",
        "    las.write(las_path)\n",
        "\n",
        "poses_path = \"poses.txt\"\n",
        "\n",
        "poses = read_poses(poses_path)\n",
        "\n",
        "# Transform origin to target CRS\n",
        "t = Transformer.from_crs(f\"EPSG:4326\", f\"EPSG:{OUT_EPSG}\", always_xy=True)\n",
        "origin_x, origin_y = t.transform(origin_lon, origin_lat)\n",
        "next_x, next_y = t.transform(next_lon, next_lat)\n",
        "\n",
        "if init_bearing_override is None:\n",
        "  # TODO: Fix this - leads to odd rotations later.\n",
        "  # init_bearing = calculate_bearing(origin_x, origin_y, next_x, next_y)\n",
        "  init_bearing = calculate_bearing_geo((origin_lat, origin_lon), (next_lat, next_lon))\n",
        "else:\n",
        "  init_bearing = init_bearing_override\n",
        "\n",
        "bin_paths = [f\"velodyne/{n:06}.bin\" for n in to_process]\n",
        "las_paths = [f\"las/{n:06}.las\" for n in to_process]\n",
        "poses_to_process = [poses[n-1] for n in to_process]\n",
        "label_paths = [f\"labels/{n:06}.label\" for n in to_process]\n",
        "\n",
        "Path(\"las/\").mkdir(exist_ok=True)\n",
        "\n",
        "for bin_path, las_path, pose, label_path in zip(bin_paths, las_paths, poses_to_process, label_paths):\n",
        "  print(f\"Processing: {bin_path}, output: {las_path}\")\n",
        "  process_bin_to_las(bin_path, pose, las_path, (origin_x, origin_y, origin_z), init_bearing, label_path)"
      ],
      "metadata": {
        "colab": {
          "base_uri": "https://localhost:8080/"
        },
        "id": "0aPTLl6bNoeq",
        "outputId": "0d2d60a2-24a3-4ae6-cbe1-60b606cafcc8"
      },
      "execution_count": null,
      "outputs": [
        {
          "output_type": "stream",
          "name": "stdout",
          "text": [
            "Processing: velodyne/000001.bin, output: las/000001.las\n",
            "Processing: velodyne/000051.bin, output: las/000051.las\n",
            "Processing: velodyne/000101.bin, output: las/000101.las\n",
            "Processing: velodyne/000151.bin, output: las/000151.las\n",
            "Processing: velodyne/000201.bin, output: las/000201.las\n",
            "Processing: velodyne/000251.bin, output: las/000251.las\n",
            "Processing: velodyne/000301.bin, output: las/000301.las\n",
            "Processing: velodyne/000351.bin, output: las/000351.las\n",
            "Processing: velodyne/000401.bin, output: las/000401.las\n",
            "Processing: velodyne/000451.bin, output: las/000451.las\n",
            "Processing: velodyne/000501.bin, output: las/000501.las\n"
          ]
        }
      ]
    },
    {
      "cell_type": "code",
      "source": [],
      "metadata": {
        "id": "el-doBWT3xPX"
      },
      "execution_count": null,
      "outputs": []
    }
  ]
}