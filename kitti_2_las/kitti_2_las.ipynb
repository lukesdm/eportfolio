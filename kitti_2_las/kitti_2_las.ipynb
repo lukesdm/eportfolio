{
  "nbformat": 4,
  "nbformat_minor": 0,
  "metadata": {
    "colab": {
      "provenance": []
    },
    "kernelspec": {
      "name": "python3",
      "display_name": "Python 3"
    },
    "language_info": {
      "name": "python"
    }
  },
  "cells": [
    {
      "cell_type": "markdown",
      "source": [
        "# kitti_2_las\n",
        "\n",
        "Created by Luke McQuade, 25-July-2023.\n",
        "\n",
        "Creates a set of georeferenced .las files from a sequence of KITTI .bin files (see https://github.com/PRBonn/semantic-kitti-api).\n",
        "\n",
        "Designed for use in Google Colab.\n",
        "\n",
        "## Usage\n",
        "\n",
        "Upload the Kitti .bin files and poses.txt into the working directory, set the parameters, and run the remaining script. The .las files will be produced in the working directory.\n",
        "\n",
        "## Warning\n",
        "\n",
        "This is a work-in-progress; currently, world orientation (rotation) is not 100% working correctly. There are probably other issues."
      ],
      "metadata": {
        "id": "A9S7mHMIsoOO"
      }
    },
    {
      "cell_type": "markdown",
      "source": [
        "## Parameters"
      ],
      "metadata": {
        "id": "b4gNSjjLtbSh"
      }
    },
    {
      "cell_type": "code",
      "source": [
        "# Number of files to process (we will look for files from 000001.bin to 000nnn.bin)\n",
        "num_files = 10\n",
        "\n",
        "# Coordinates of origin (world) and next track point, for determining position and orientation\n",
        "origin_lon = 13.0354712 # degrees\n",
        "origin_lat = 47.8158465 # degrees\n",
        "origin_z = 418.992 # meters\n",
        "\n",
        "next_lon = 13.0354742 # degrees\n",
        "next_lat = 47.8158323 # degrees\n",
        "next_z = 418.99 # meters\n",
        "\n",
        "# Initial bearing (in radians). Manually specify this if known. Otherwise it is estimated from the above GPS points.\n",
        "init_bearing_override = None\n",
        "\n",
        "# Scale factor to convert input points to meters\n",
        "SCALE_FACTOR = 0.1\n",
        "\n",
        "# Target CRS EPSG (Expected: a projected CRS with meters as units of measurement)\n",
        "OUT_EPSG = 31255 # (MGI / Austria GK Central)"
      ],
      "metadata": {
        "id": "W3K3SdX4tYkt"
      },
      "execution_count": 60,
      "outputs": []
    },
    {
      "cell_type": "code",
      "source": [
        "%pip install laspy"
      ],
      "metadata": {
        "colab": {
          "base_uri": "https://localhost:8080/"
        },
        "id": "ztV6Zvq_NdG_",
        "outputId": "b50ce9ff-18cf-4332-935a-afe375d73974"
      },
      "execution_count": 44,
      "outputs": [
        {
          "output_type": "stream",
          "name": "stdout",
          "text": [
            "Requirement already satisfied: laspy in /usr/local/lib/python3.10/dist-packages (2.5.0)\n",
            "Requirement already satisfied: numpy in /usr/local/lib/python3.10/dist-packages (from laspy) (1.22.4)\n"
          ]
        }
      ]
    },
    {
      "cell_type": "code",
      "source": [
        "import laspy\n",
        "import numpy as np\n",
        "from pyproj import CRS, Transformer\n",
        "import math\n",
        "\n",
        "\n",
        "# TODO: Fix this - leads to odd rotations later.\n",
        "def calculate_bearing(x1, y1, x2, y2):\n",
        "    \"\"\"\n",
        "    Calculates the bearing between two points (rectangular coordinates).\n",
        "    Args:\n",
        "        x1, y1: point 1 coordinates\n",
        "        x2, y2: point 2 coordinates\n",
        "    Returns:\n",
        "        initial_compass_bearing: bearing in radians, clockwise from North.\n",
        "    \"\"\"\n",
        "    dx = x2 - x1\n",
        "    dy = y2 - y1\n",
        "    bearing = np.arctan2(dy, dx)\n",
        "    bearing = (bearing + 2*math.pi) % (2*math.pi)\n",
        "    return bearing\n",
        "\n",
        "\n",
        "def calculate_bearing_geo(pointA, pointB):\n",
        "    \"\"\"\n",
        "    Calculates the bearing between two geographic points.\n",
        "    Args:\n",
        "        pointA: tuple with latitude and longitude of the first point.\n",
        "        pointB: tuple with latitude and longitude of the second point.\n",
        "    Returns:\n",
        "        initial_compass_bearing: bearing in radians, clockwise from North.\n",
        "    \"\"\"\n",
        "    lat1 = math.radians(pointA[0])\n",
        "    lat2 = math.radians(pointB[0])\n",
        "    diffLong = math.radians(pointB[1] - pointA[1])\n",
        "    x = math.sin(diffLong) * math.cos(lat2)\n",
        "    y = math.cos(lat1) * math.sin(lat2) - (math.sin(lat1)\n",
        "            * math.cos(lat2) * math.cos(diffLong))\n",
        "    initial_bearing = math.atan2(x, y)\n",
        "    initial_bearing = (initial_bearing + 2*math.pi) % (2*math.pi)\n",
        "    return initial_bearing\n",
        "\n",
        "\n",
        "def read_poses(file_path):\n",
        "    with open(file_path, 'r') as f:\n",
        "        lines = f.readlines()\n",
        "    poses = []\n",
        "    for line in lines:\n",
        "        pose = np.array(list(map(float, line.split()))).reshape(3, 4)\n",
        "\n",
        "        # Complete the affine transform matrix\n",
        "        pose = np.vstack([pose, [0, 0, 0, 1]])\n",
        "\n",
        "        # In the input file, x is along-track and y is cross-track, but for later calculations, the opposite is assumed.\n",
        "        # So, swap them here.\n",
        "        old_dx = pose[0,3]\n",
        "        pose[0,3] = pose[1,3]\n",
        "        pose[1,3] = old_dx\n",
        "\n",
        "        poses.append(pose)\n",
        "    return poses\n",
        "\n",
        "\n",
        "def process_bin_to_las(bin_path, pose, las_path, origin_proj, bearing):\n",
        "    x1, y1, z1 = origin_proj\n",
        "    # Load points from .bin file\n",
        "    points_orig = np.fromfile(bin_path, dtype=np.float32).reshape(-1, 4)\n",
        "\n",
        "    # Convert points to meters\n",
        "    points = points_orig[:,:3] * SCALE_FACTOR  # 4th channel doesn't need conversion/transforming\n",
        "\n",
        "    # Create homogeneous coordinates for points\n",
        "    points_hom = np.ones((points.shape[0], 4))\n",
        "    points_hom[:, :3] = points\n",
        "\n",
        "    # Create a homogeneous transformation matrix for world coordinates\n",
        "    homogeneous_transformation_world = np.array([\n",
        "        [np.cos(-bearing), -np.sin(-bearing), 0, x1],\n",
        "        [np.sin(-bearing),  np.cos(-bearing), 0, y1],\n",
        "        [0, 0, 1, z1],\n",
        "        [0, 0, 0, 1]\n",
        "    ])\n",
        "\n",
        "    # Create the combined transformation matrix\n",
        "    combined_transformation = homogeneous_transformation_world @ pose\n",
        "\n",
        "    # Apply the combined transformation to the points\n",
        "    world_points_hom = (combined_transformation @ points_hom.T).T\n",
        "\n",
        "    # Extract the world coordinates (discard the homogeneous coordinate)\n",
        "    world_points = world_points_hom[:,:3]\n",
        "\n",
        "    # Create las\n",
        "    las = laspy.create(point_format=2, file_version='1.4')\n",
        "    las.header.add_crs(CRS.from_user_input(OUT_EPSG))\n",
        "    las.x = world_points[:, 0]\n",
        "    las.y = world_points[:, 1]\n",
        "    las.z = world_points[:, 2]\n",
        "    las.intensity = points_orig[:, 3]  # instance id (stash it here as it's the same data type and the field is unused).\n",
        "    las.write(las_path)\n",
        "\n",
        "poses_path = \"poses.txt\"\n",
        "\n",
        "poses = read_poses(poses_path)\n",
        "\n",
        "# Transform origin to target CRS\n",
        "t = Transformer.from_crs(f\"EPSG:4326\", f\"EPSG:{OUT_EPSG}\", always_xy=True)\n",
        "origin_x, origin_y = t.transform(origin_lon, origin_lat)\n",
        "next_x, next_y = t.transform(next_lon, next_lat)\n",
        "\n",
        "if init_bearing_override is None:\n",
        "  # TODO: Fix this - leads to odd rotations later.\n",
        "  # init_bearing = calculate_bearing(origin_x, origin_y, next_x, next_y)\n",
        "  init_bearing = calculate_bearing_geo((origin_lat, origin_lon), (next_lat, next_lon))\n",
        "\n",
        "bin_paths = [f\"{n:06}.bin\" for n in range(1, num_files + 1)]\n",
        "las_paths = [f\"v1-{n:06}.las\" for n in range(1, num_files + 1)]\n",
        "\n",
        "for bin_path, las_path, pose in zip(bin_paths, las_paths, poses[:num_files]):\n",
        "  print(f\"Processing: {bin_path}, output: {las_path}\")\n",
        "  process_bin_to_las(bin_path, pose, las_path, (origin_x, origin_y, origin_z), init_bearing)"
      ],
      "metadata": {
        "colab": {
          "base_uri": "https://localhost:8080/"
        },
        "id": "0aPTLl6bNoeq",
        "outputId": "6464ff90-628e-4afe-9006-99110a1daa23"
      },
      "execution_count": 61,
      "outputs": [
        {
          "output_type": "stream",
          "name": "stdout",
          "text": [
            "Processing: 000001.bin, output: v1-000001.las\n",
            "Processing: 000002.bin, output: v1-000002.las\n",
            "Processing: 000003.bin, output: v1-000003.las\n",
            "Processing: 000004.bin, output: v1-000004.las\n",
            "Processing: 000005.bin, output: v1-000005.las\n",
            "Processing: 000006.bin, output: v1-000006.las\n",
            "Processing: 000007.bin, output: v1-000007.las\n",
            "Processing: 000008.bin, output: v1-000008.las\n",
            "Processing: 000009.bin, output: v1-000009.las\n",
            "Processing: 000010.bin, output: v1-000010.las\n"
          ]
        }
      ]
    },
    {
      "cell_type": "code",
      "source": [],
      "metadata": {
        "id": "el-doBWT3xPX"
      },
      "execution_count": null,
      "outputs": []
    }
  ]
}